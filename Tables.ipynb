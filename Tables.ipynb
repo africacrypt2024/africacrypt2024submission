{
 "cells": [
  {
   "cell_type": "code",
   "execution_count": 36,
   "id": "dc6cc9c5",
   "metadata": {},
   "outputs": [],
   "source": [
    "import numpy as np\n",
    "import math\n",
    "from estimator import *"
   ]
  },
  {
   "cell_type": "code",
   "execution_count": 37,
   "id": "5c5fe34c",
   "metadata": {},
   "outputs": [],
   "source": [
    "params_lambda_usvp_U3 = [0.29620, 0.80060, 12.09086]\n",
    "params_lambda_usvp_U2 = [0.28862, 1.33981, 5.61427]\n",
    "\n",
    "params_lambda_bdd_U3 = [0.33734, 1.71211, 0.000003]\n",
    "params_lambda_bdd_U2 = [0.35858, 0.005, 27.56968]\n",
    "\n",
    "params_lambda_red_usvp_U3 = [0.83354, 0.15494, 1.46982, 18.09877]\n",
    "params_lambda_red_usvp_U2 = [0.44530, 1.48698, 0.95011, 11.21416]\n",
    "\n",
    "params_n_usvp_U3 = [-1.07304, 0.27831, 0.93120, 0.792882]\n",
    "params_n_usvp_U2 = [-1.142080, 0.231197, 1.106616, -0.233138]\n",
    "\n",
    "params_n_bdd_U3 = [2.36830289, -0.67630697, -4.10436958, -19.1104812]\n",
    "params_n_bdd_U2 = [2.46304008, 3.42658016, -24.9248619, 128.041708]"
   ]
  },
  {
   "cell_type": "code",
   "execution_count": 38,
   "id": "f78aa95a",
   "metadata": {},
   "outputs": [],
   "source": [
    "lo = 1.44269504088896340735992468100"
   ]
  },
  {
   "cell_type": "code",
   "execution_count": 39,
   "id": "86075d9b",
   "metadata": {},
   "outputs": [],
   "source": [
    "def n_usvp(l,lnq,params):\n",
    "    return np.multiply(np.divide(l + params[0]*np.log(lnq), params[2]+ params[1]*np.log(l)) + params[3], lnq)\n",
    "\n",
    "def n_bdd(l,lnq,params):\n",
    "    return np.multiply(params[0]*np.divide(l,np.log(l)) + params[1]*np.log(lnq) + params[2],lnq) + params[3]"
   ]
  },
  {
   "cell_type": "markdown",
   "id": "61298245",
   "metadata": {},
   "source": [
    "## lambda for uSVP (13)"
   ]
  },
  {
   "cell_type": "code",
   "execution_count": 40,
   "id": "742520d2",
   "metadata": {},
   "outputs": [
    {
     "name": "stdout",
     "output_type": "stream",
     "text": [
      "650 358.6212826903233\n",
      "760 287.15597792752493\n",
      "1500 102.30313612894383\n"
     ]
    }
   ],
   "source": [
    "def beta_lambda_usvp(n, lnq, sigma):\n",
    "    x = n/lnq\n",
    "    chi = (1/2)*sigma\n",
    "    num = 2*n*(lnq-math.log(chi))*np.log(n*np.log(x)/(2*math.pi*math.e*(lnq-math.log(sigma))))\n",
    "    den = (lnq + (1/2)*math.log(n*(math.log(n/(lnq - math.log(sigma))))/lnq) - math.log(2*math.pi*math.e*sigma))**2\n",
    "    beta = num/den\n",
    "    return beta\n",
    "\n",
    "def lambda_usvp(n,lnq,sigma,params):\n",
    "    chi = math.sqrt(3/2)*sigma\n",
    "    beta = beta_lambda_usvp(n, lnq, sigma)\n",
    "    return params[0]*beta + params[1]*math.log((2*n*beta*(lnq - math.log(chi)))/math.log(beta/2*math.pi*math.e)) + params[2]\n",
    "\n",
    "def lambda_red_usvp(n,lnq,params):\n",
    "    return params[0]*math.log((params[1]*n)/lnq)*(n/lnq) + params[2]*math.log(n) + params[3]\n",
    "\n",
    "params = params_lambda_red_usvp_U3\n",
    "for logq in [650,760,1500]:\n",
    "    print(logq, round(lambda_usvp(2**15,np.divide(logq,lo),3.19,params)))"
   ]
  },
  {
   "cell_type": "markdown",
   "id": "0a7da1a2",
   "metadata": {},
   "source": [
    "## lambda for BDD (16)"
   ]
  },
  {
   "cell_type": "code",
   "execution_count": 46,
   "id": "5eb96635",
   "metadata": {},
   "outputs": [
    {
     "name": "stdout",
     "output_type": "stream",
     "text": [
      "25 122.0\n",
      "26 117.0\n",
      "27 112.0\n",
      "28 107.0\n",
      "29 103.0\n",
      "30 100.0\n",
      "31 96.0\n",
      "32 93.0\n",
      "33 90.0\n",
      "34 87.0\n"
     ]
    }
   ],
   "source": [
    "def beta_lambda_bdd(n, lnq, sigmae, sigmas):\n",
    "    x = n/lnq\n",
    "    chi = sigmae*sigmas\n",
    "    num = 2*n*(lnq-math.log(chi))*np.log(n*np.log(x)/(2*math.pi*math.e*(lnq-math.log(sigmae))))\n",
    "    den = (np.log(n*np.log(x)/(2*math.pi*math.e*(lnq-math.log(sigmae)))) + lnq - math.log(2*math.pi*math.e*sigmae*sigmas))**2\n",
    "    return num/den\n",
    "\n",
    "def lambda_bdd(n, lnq, sigmae, sigmas, params):\n",
    "    beta = beta_lambda_bdd(n, lnq, sigmae, sigmas)\n",
    "    chi = sigmae*sigmas\n",
    "    return params[0]*beta + params[1]*math.log(2*n*beta*(lnq - math.log(chi))/math.log(beta)) + params[2]\n",
    "    \n",
    "params = params_lambda_usvp_U2\n",
    "for logq in range(25,35):\n",
    "    print(logq, round(lambda_bdd(2**10, np.divide(logq,lo),3.19,1/2,params)))"
   ]
  },
  {
   "cell_type": "markdown",
   "id": "ef6da69f",
   "metadata": {},
   "source": [
    "## n for uSVP (17)"
   ]
  },
  {
   "cell_type": "code",
   "execution_count": 42,
   "id": "e93e3569",
   "metadata": {},
   "outputs": [
    {
     "name": "stdout",
     "output_type": "stream",
     "text": [
      "\n",
      "\n",
      "logq  42 est 80 1057.0\n",
      "logq  58 est 80 1453.0\n",
      "logq  71 est 80 1774.0\n",
      "logq  84 est 80 2094.0\n",
      "\n",
      "\n",
      "logq  34 est 100 1048.0\n",
      "logq  46 est 102 1438.0\n",
      "logq  57 est 100 1746.0\n",
      "logq  67 est 100 2049.0\n",
      "\n",
      "\n",
      "logq  31 est 110 1041.0\n",
      "logq  42 est 112 1429.0\n",
      "logq  52 est 111 1751.0\n",
      "logq  61 est 112 2068.0\n",
      "\n",
      "\n",
      "logq  28 est 123 1040.0\n",
      "logq  39 est 121 1423.0\n",
      "logq  48 est 121 1748.0\n",
      "logq  57 est 121 2072.0\n",
      "\n",
      "\n",
      "logq  27 est 128 1039.0\n",
      "logq  37 est 128 1420.0\n",
      "logq  45 est 129 1736.0\n",
      "logq  54 est 128 2066.0\n",
      "\n",
      "\n",
      "logq  24 est 144 1027.0\n",
      "logq  34 est 140 1415.0\n",
      "logq  41 est 143 1736.0\n",
      "logq  49 est 142 2059.0\n"
     ]
    }
   ],
   "source": [
    "const = 2*math.pi*math.e\n",
    "\n",
    "lo = 1.44269504088896340735992468100\n",
    "\n",
    "params = params_n_usvp_U3\n",
    "\n",
    "logqs = [[42,58,71,84],[34,46,57,67],[31,42,52,61],[28,39,48,57],[27,37,45,54],[24,34,41,49]]\n",
    "sec = [[80,80,80,80],[100,102,100,100],[110,112,111,112],[123,121,121,121],[128,128,129,128],[144,140,143,142]]\n",
    "\n",
    "for i in range(len(sec)):\n",
    "    print(\"\\n\")\n",
    "    for j in range(len(sec[0])):\n",
    "        logq = logqs[i][j]\n",
    "        l = sec[i][j]\n",
    "        lnq = np.divide(logq,lo)\n",
    "        #print(np.multiply(params[0]*np.divide(l,np.log(l)) + params[1]*np.log(lnq) + params[2],lnq) + params[3])\n",
    "        print(\"logq \", logq, \"est\", l, round(n_usvp(l,lnq,params)))"
   ]
  },
  {
   "cell_type": "code",
   "execution_count": 43,
   "id": "37152946",
   "metadata": {},
   "outputs": [
    {
     "name": "stdout",
     "output_type": "stream",
     "text": [
      "\n",
      "\n",
      "logq  43 est 80 1082.0\n",
      "logq  34 est 102 1066.0\n",
      "logq  32 est 109 1065.0\n",
      "logq  29 est 122 1069.0\n",
      "logq  27 est 132 1068.0\n",
      "logq  25 est 143 1062.0\n",
      "\n",
      "\n",
      "logq  1400 est 80 33535.0\n",
      "logq  1100 est 101 32911.0\n",
      "logq  1000 est 112 32971.0\n",
      "logq  930 est 121 32960.0\n",
      "logq  880 est 128 32864.0\n",
      "logq  810 est 140 32870.0\n"
     ]
    }
   ],
   "source": [
    "const = 2*math.pi*math.e\n",
    "\n",
    "lo = 1.44269504088896340735992468100\n",
    "\n",
    "params = params_n_usvp_U3\n",
    "\n",
    "logqs = [[43,34,32,29,27,25],[1400,1100,1000,930,880,810]]\n",
    "sec = [[80,102,109,122,132,143],[80,101,112,121,128,140]]\n",
    "\n",
    "for i in range(len(sec)):\n",
    "    print(\"\\n\")\n",
    "    for j in range(len(sec[0])):\n",
    "        logq = logqs[i][j]\n",
    "        l = sec[i][j]\n",
    "        lnq = np.divide(logq,lo)\n",
    "        print(\"logq \", logq, \"est\", l, round(n_usvp(l,lnq,params)))"
   ]
  },
  {
   "cell_type": "markdown",
   "id": "ee6b5b95",
   "metadata": {},
   "source": [
    "## n for BDD (18)"
   ]
  },
  {
   "cell_type": "code",
   "execution_count": 44,
   "id": "3642ed71",
   "metadata": {},
   "outputs": [
    {
     "name": "stdout",
     "output_type": "stream",
     "text": [
      "\n",
      "\n",
      "logq  42 est 80 1048\n",
      "logq  58 est 80 1443\n",
      "logq  71 est 80 1771\n",
      "logq  84 est 80 2106\n",
      "\n",
      "\n",
      "logq  34 est 100 1056\n",
      "logq  46 est 102 1444\n",
      "logq  57 est 100 1754\n",
      "logq  67 est 100 2065\n",
      "\n",
      "\n",
      "logq  31 est 110 1057\n",
      "logq  42 est 112 1441\n",
      "logq  52 est 111 1765\n",
      "logq  61 est 112 2089\n",
      "\n",
      "\n",
      "logq  28 est 123 1063\n",
      "logq  39 est 121 1440\n",
      "logq  48 est 121 1766\n",
      "logq  57 est 121 2096\n",
      "\n",
      "\n",
      "logq  27 est 128 1065\n",
      "logq  37 est 128 1440\n",
      "logq  45 est 129 1758\n",
      "logq  54 est 128 2092\n",
      "\n",
      "\n",
      "logq  24 est 144 1061\n",
      "logq  34 est 140 1440\n",
      "logq  41 est 143 1763\n",
      "logq  49 est 142 2089\n"
     ]
    }
   ],
   "source": [
    "const = 2*math.pi*math.e\n",
    "\n",
    "lo = 1.44269504088896340735992468100\n",
    "\n",
    "params = params_n_bdd_U2\n",
    "\n",
    "logqs = [[42,58,71,84],[34,46,57,67],[31,42,52,61],[28,39,48,57],[27,37,45,54],[24,34,41,49]]\n",
    "sec = [[80,80,80,80],[100,102,100,100],[110,112,111,112],[123,121,121,121],[128,128,129,128],[144,140,143,142]]\n",
    "\n",
    "for i in range(len(sec)):\n",
    "    print(\"\\n\")\n",
    "    for j in range(len(sec[0])):\n",
    "        logq = logqs[i][j]\n",
    "        l = sec[i][j]\n",
    "        lnq = np.divide(logq,lo)\n",
    "        print(\"logq \", logq, \"est\", l, round(n_bdd(l,lnq,params)))"
   ]
  },
  {
   "cell_type": "code",
   "execution_count": 45,
   "id": "b21ec5b5",
   "metadata": {},
   "outputs": [
    {
     "name": "stdout",
     "output_type": "stream",
     "text": [
      "\n",
      "\n",
      "logq  43 est 79 1066\n",
      "logq  34 est 101 1055\n",
      "logq  32 est 108 1055\n",
      "logq  29 est 120 1051\n",
      "logq  27 est 129 1044\n",
      "logq  25 est 140 1039\n",
      "\n",
      "\n",
      "logq  1450 est 77 33351\n",
      "logq  1150 est 97 33136\n",
      "logq  1050 est 106 32929\n",
      "logq  930 est 121 33034\n",
      "logq  870 est 129 32805\n",
      "logq  810 est 140 32943\n"
     ]
    }
   ],
   "source": [
    "const = 2*math.pi*math.e\n",
    "\n",
    "lo = 1.44269504088896340735992468100\n",
    "\n",
    "params = params_n_bdd_U3\n",
    "\n",
    "#logqs = [[29,27,25],[1450,1150,1050,930,870,810]]\n",
    "#sec = [[119,129,140],[77,97,106,121,129,140]]\n",
    "\n",
    "logqs = [[43,34,32,29,27,25],[1450,1150,1050,930,870,810]]\n",
    "sec = [[79,101,108,120,129,140],[77,97,106,121,129,140]]\n",
    "\n",
    "for i in range(len(sec)):\n",
    "    print(\"\\n\")\n",
    "    for j in range(len(sec[0])):\n",
    "        logq = logqs[i][j]\n",
    "        l = sec[i][j]\n",
    "        lnq = np.divide(logq,lo)\n",
    "        print(\"logq \", logq, \"est\", l, round(n_bdd(l,lnq,params)))"
   ]
  }
 ],
 "metadata": {
  "kernelspec": {
   "display_name": "SageMath 9.8",
   "language": "sage",
   "name": "sagemath"
  },
  "language_info": {
   "codemirror_mode": {
    "name": "ipython",
    "version": 3
   },
   "file_extension": ".py",
   "mimetype": "text/x-python",
   "name": "python",
   "nbconvert_exporter": "python",
   "pygments_lexer": "ipython3",
   "version": "3.10.6"
  }
 },
 "nbformat": 4,
 "nbformat_minor": 5
}
